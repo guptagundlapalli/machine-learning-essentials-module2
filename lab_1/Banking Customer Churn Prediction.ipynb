{
 "cells": [
  {
   "cell_type": "markdown",
   "metadata": {},
   "source": [
    "### Importing Dependencies"
   ]
  },
  {
   "cell_type": "code",
   "execution_count": null,
   "metadata": {},
   "outputs": [],
   "source": [
    "import pandas as pd\n",
    "import numpy as np\n",
    "\n",
    "# Matplotlib for visualization\n",
    "from matplotlib import pyplot as plt\n",
    "# display plots in the notebook\n",
    "%matplotlib inline\n",
    "\n",
    "# Seaborn for easier visualization\n",
    "import seaborn as sns\n",
    "sns.set_style('darkgrid')\n",
    "\n",
    "# store elements as dictionary keys and their counts as dictionary values\n",
    "from collections import Counter\n",
    "\n",
    "# scikit-learn\n",
    "from sklearn.model_selection import train_test_split\n",
    "from sklearn.preprocessing import LabelEncoder, MinMaxScaler\n",
    "\n",
    "# Classification metrics\n",
    "from sklearn.metrics import confusion_matrix, classification_report"
   ]
  },
  {
   "cell_type": "markdown",
   "metadata": {},
   "source": [
    "### Exploratory Analysis"
   ]
  },
  {
   "cell_type": "code",
   "execution_count": null,
   "metadata": {},
   "outputs": [],
   "source": [
    "# Load the dataset\n",
    "df = pd.read_csv(\"Churn_Modelling.csv\")\n",
    "print(f\"Dataframe dimensions: {df.shape}\")\n",
    "df.head()"
   ]
  },
  {
   "cell_type": "code",
   "execution_count": null,
   "metadata": {},
   "outputs": [],
   "source": [
    "df.info()"
   ]
  },
  {
   "cell_type": "code",
   "execution_count": null,
   "metadata": {},
   "outputs": [],
   "source": [
    "# List number of unique customer IDs\n",
    "df.CustomerId.nunique()"
   ]
  },
  {
   "cell_type": "code",
   "execution_count": null,
   "metadata": {},
   "outputs": [],
   "source": [
    "df.duplicated().sum()"
   ]
  },
  {
   "cell_type": "markdown",
   "metadata": {},
   "source": [
    "### Dropping unwanted features"
   ]
  },
  {
   "cell_type": "code",
   "execution_count": null,
   "metadata": {},
   "outputs": [],
   "source": [
    "# Drop unused features\n",
    "df.drop(['RowNumber', 'CustomerId', 'Surname'], \n",
    "        axis=1, inplace=True)\n",
    "print(f\"Dataframe dimensions: {df.shape}\")\n",
    "df.head()"
   ]
  },
  {
   "cell_type": "markdown",
   "metadata": {},
   "source": [
    "### Distributions of Numeric Features"
   ]
  },
  {
   "cell_type": "code",
   "execution_count": null,
   "metadata": {},
   "outputs": [],
   "source": [
    "# Plot histogram grid\n",
    "df.hist(figsize=(14,14))\n",
    "\n",
    "plt.show()"
   ]
  },
  {
   "cell_type": "markdown",
   "metadata": {},
   "source": [
    "### Summary Statistic for the numeric features"
   ]
  },
  {
   "cell_type": "code",
   "execution_count": null,
   "metadata": {
    "scrolled": true
   },
   "outputs": [],
   "source": [
    "# Summarize numerical features\n",
    "df.describe()"
   ]
  },
  {
   "cell_type": "markdown",
   "metadata": {},
   "source": [
    "### Distributions of Categorical Features"
   ]
  },
  {
   "cell_type": "code",
   "execution_count": null,
   "metadata": {},
   "outputs": [],
   "source": [
    "# Summarize categorical features\n",
    "df.describe(include=['object'])"
   ]
  },
  {
   "cell_type": "markdown",
   "metadata": {},
   "source": [
    "### Data Visualization"
   ]
  },
  {
   "cell_type": "code",
   "execution_count": null,
   "metadata": {
    "scrolled": true
   },
   "outputs": [],
   "source": [
    "# Bar plot for \"Gender\"\n",
    "plt.figure(figsize=(4,4))\n",
    "df['Gender'].value_counts().plot.bar(color=['b', 'g'])\n",
    "plt.ylabel('Count')\n",
    "plt.xlabel('Gender')\n",
    "plt.xticks(rotation=0)\n",
    "plt.show()\n",
    "\n",
    "# Display count of each class\n",
    "Counter(df.Gender)"
   ]
  },
  {
   "cell_type": "code",
   "execution_count": null,
   "metadata": {
    "scrolled": true
   },
   "outputs": [],
   "source": [
    "# Bar plot for \"Geography\"\n",
    "plt.figure(figsize=(6,4))\n",
    "df['Geography'].value_counts().plot.bar(color=['b', 'g', 'r'])\n",
    "plt.ylabel('Count')\n",
    "plt.xlabel('Geography')\n",
    "plt.xticks(rotation=0)\n",
    "plt.show()\n",
    "\n",
    "# Display count of each class\n",
    "Counter(df.Geography)"
   ]
  },
  {
   "cell_type": "markdown",
   "metadata": {},
   "source": [
    "### Churn Segmentation by Gender"
   ]
  },
  {
   "cell_type": "code",
   "execution_count": null,
   "metadata": {},
   "outputs": [],
   "source": [
    "# Segment \"Exited\" by gender and display the frequency and percentage within each class\n",
    "grouped = df.groupby('Gender')['Exited'].agg(Count='value_counts')\n",
    "grouped"
   ]
  },
  {
   "cell_type": "code",
   "execution_count": null,
   "metadata": {},
   "outputs": [],
   "source": [
    "# Reorganize dataframe for plotting count\n",
    "dfgc = grouped\n",
    "dfgc = dfgc.pivot_table(values='Count', index='Gender', columns=['Exited'])\n",
    "dfgc"
   ]
  },
  {
   "cell_type": "code",
   "execution_count": null,
   "metadata": {},
   "outputs": [],
   "source": [
    "# Calculate percentage within each class\n",
    "dfgp = grouped.groupby(level=[0]).apply(lambda g: round(g * 100 / g.sum(), 2))\n",
    "dfgp.rename(columns={'Count': 'Percentage'}, inplace=True)\n",
    "dfgp"
   ]
  },
  {
   "cell_type": "code",
   "execution_count": null,
   "metadata": {},
   "outputs": [],
   "source": [
    "# Churn distribution by gender, count\n",
    "\n",
    "labels= ['Stays', 'Exits']\n",
    "\n",
    "fig, ax1 = plt.subplots(1, 1, figsize=(8, 4))\n",
    "\n",
    "dfgc.plot(kind='bar',\n",
    "          color=['g', 'r'],\n",
    "          rot=0, \n",
    "          ax=ax1)\n",
    "ax1.legend(labels)\n",
    "ax1.set_title('Churn Risk per Gender (Count)', fontsize=14, pad=10)\n",
    "ax1.set_ylabel('Count',size=12)\n",
    "ax1.set_xlabel('Gender', size=12)\n",
    "\n",
    "\n",
    "plt.show()"
   ]
  },
  {
   "cell_type": "markdown",
   "metadata": {},
   "source": [
    "### Churn Segmentation by Geography"
   ]
  },
  {
   "cell_type": "code",
   "execution_count": null,
   "metadata": {},
   "outputs": [],
   "source": [
    "# Segment \"Exited\" by geography and display the frequency and percentage within each class\n",
    "grouped = df.groupby('Geography')['Exited'].agg(Count='value_counts')\n",
    "grouped"
   ]
  },
  {
   "cell_type": "code",
   "execution_count": null,
   "metadata": {},
   "outputs": [],
   "source": [
    "# Reorganize dataframe for plotting count\n",
    "dfgeoc = grouped\n",
    "dfgeoc = dfgeoc.pivot_table(values='Count', index='Geography', columns=['Exited'])\n",
    "dfgeoc"
   ]
  },
  {
   "cell_type": "code",
   "execution_count": null,
   "metadata": {},
   "outputs": [],
   "source": [
    "# Calculate percentage within each class\n",
    "dfgeop = grouped.groupby(level=[0]).apply(lambda g: round(g * 100 / g.sum(), 2))\n",
    "dfgeop.rename(columns={'Count': 'Percentage'}, inplace=True)\n",
    "dfgeop"
   ]
  },
  {
   "cell_type": "code",
   "execution_count": null,
   "metadata": {},
   "outputs": [],
   "source": [
    "# Reorganize dataframe for plotting percentage\n",
    "dfgeop = dfgeop.pivot_table(values='Percentage', index='Geography', columns=['Exited'])\n",
    "dfgeop"
   ]
  },
  {
   "cell_type": "code",
   "execution_count": null,
   "metadata": {},
   "outputs": [],
   "source": [
    "# Churn distribution by geography, count + percentage\n",
    "\n",
    "labels= ['Stays', 'Exits']\n",
    "\n",
    "fig, (ax1, ax2) = plt.subplots(1, 2, figsize=(12, 4))\n",
    "\n",
    "dfgeoc.plot(kind='bar',\n",
    "          color=['g', 'r'],\n",
    "          rot=0, \n",
    "          ax=ax1)\n",
    "ax1.legend(labels)\n",
    "ax1.set_title('Churn Risk per Geography (Count)', fontsize=14, pad=10)\n",
    "ax1.set_ylabel('Count',size=12)\n",
    "ax1.set_xlabel('Geography', size=12)\n",
    "\n",
    "\n",
    "dfgeop.plot(kind='bar',\n",
    "          color=['g', 'r'],\n",
    "          rot=0, \n",
    "          ax=ax2)\n",
    "ax2.legend(labels)\n",
    "ax2.set_title('Churn Risk per Geography (Percentage)', fontsize=14, pad=10)\n",
    "ax2.set_ylabel('Percentage',size=12)\n",
    "ax2.set_xlabel('Geography', size=12)\n",
    "\n",
    "plt.show()"
   ]
  },
  {
   "cell_type": "markdown",
   "metadata": {},
   "source": [
    "### Correlations"
   ]
  },
  {
   "cell_type": "code",
   "execution_count": null,
   "metadata": {},
   "outputs": [],
   "source": [
    "# Calculate correlations between numeric features\n",
    "correlations = df.corr()\n",
    "\n",
    "# sort features in order of their correlation with \"Exited\"\n",
    "sort_corr_cols = correlations.Exited.sort_values(ascending=False).keys()\n",
    "sort_corr = correlations.loc[sort_corr_cols,sort_corr_cols]\n",
    "sort_corr"
   ]
  },
  {
   "cell_type": "code",
   "execution_count": null,
   "metadata": {},
   "outputs": [],
   "source": [
    "# Generate a mask for the upper triangle\n",
    "corr_mask = np.zeros_like(correlations)\n",
    "corr_mask[np.triu_indices_from(corr_mask)] = 1\n",
    "\n",
    "# Make the figsize 9x9\n",
    "plt.figure(figsize=(9,9))\n",
    "\n",
    "# Plot heatmap of annotated correlations; change background to white\n",
    "##with sns.axes_style('white'):\n",
    "sns.heatmap(sort_corr*100, \n",
    "                cmap='RdBu', \n",
    "                annot=True,\n",
    "                fmt='.0f',\n",
    "                mask=corr_mask,\n",
    "                cbar=False)\n",
    "    \n",
    "plt.title('Correlations by Exited', fontsize=14)\n",
    "plt.yticks(rotation=0)\n",
    "plt.show()"
   ]
  },
  {
   "cell_type": "code",
   "execution_count": null,
   "metadata": {},
   "outputs": [],
   "source": [
    "# Plot Seaborn's pairplot\n",
    "g = sns.pairplot(df, hue='Exited',\n",
    "                 palette={1 : 'green',\n",
    "                          0 : 'red'},\n",
    "                 plot_kws={'alpha' : 0.8, 'edgecolor' : 'b', 'linewidth' : 0.5})\n",
    "\n",
    "fig = g.fig\n",
    "fig.subplots_adjust(top=0.95, wspace=0.2)\n",
    "fig.suptitle('Plot by \"Exited\" Classes',\n",
    "             fontsize=26,\n",
    "             fontweight='bold')\n",
    "\n",
    "\n",
    "# Update the legend\n",
    "new_title = 'Churn Risk'\n",
    "g._legend.set_title(new_title)\n",
    "# replace labels\n",
    "new_labels = ['Stays', 'Exits']\n",
    "for t, l in zip(g._legend.texts, new_labels): t.set_text(l)\n",
    "\n",
    "plt.show()"
   ]
  },
  {
   "cell_type": "code",
   "execution_count": null,
   "metadata": {},
   "outputs": [],
   "source": [
    "# Plot Seaborn's pairplot\n",
    "g = sns.pairplot(df, hue='Exited',\n",
    "                 vars=['Age', 'IsActiveMember', 'NumOfProducts', 'Balance'], # reduce to less features\n",
    "                 palette={0 : 'green',\n",
    "                          1 : 'red'},\n",
    "                 plot_kws={'alpha' : 0.8, 'edgecolor' : 'b', 'linewidth' : 0.5})\n",
    "\n",
    "fig = g.fig\n",
    "fig.subplots_adjust(top=0.95, wspace=0.2)\n",
    "fig.suptitle('Reduced Plot by \"Exited\" Classes',\n",
    "             fontsize=14,\n",
    "             fontweight='bold')\n",
    "\n",
    "# Update the legend\n",
    "new_title = 'Churn Risk'\n",
    "g._legend.set_title(new_title)\n",
    "# replace labels\n",
    "new_labels = ['Stays', 'Exits']\n",
    "for t, l in zip(g._legend.texts, new_labels): t.set_text(l)\n",
    "\n",
    "plt.show()"
   ]
  },
  {
   "cell_type": "code",
   "execution_count": null,
   "metadata": {},
   "outputs": [],
   "source": [
    "# Segment age by Exited and plot distributions\n",
    "#  “categorical” variable Exited is a numeric\n",
    "#  for plotting purposes only we will change it to real categorical variable\n",
    "\n",
    "# Define palette\n",
    "my_pal = {'Stays': 'green', 'Exits': 'red'}\n",
    "# Convert to categorical\n",
    "hr = {0: 'Stays', 1: 'Exits'}\n",
    "churn = df['Exited'].map(hr)\n",
    "\n",
    "fig, ((ax1, ax2), (ax3, ax4)) = plt.subplots(2, 2, figsize=(12, 10))\n",
    "fig.suptitle('Churn Risk vs. Different Attributes', fontsize=16)\n",
    "fig.subplots_adjust(top=0.92, wspace=0.3, hspace=0.3)\n",
    "\n",
    "sns.violinplot(x=churn,\n",
    "               y=df['Age'],\n",
    "               order=['Stays', 'Exits'], \n",
    "               palette=my_pal,\n",
    "               ax=ax1)\n",
    "\n",
    "ax1.set_title('Churn Risk vs. Age', fontsize=14, pad=10)\n",
    "ax1.set_ylabel('Age',size=12)\n",
    "ax1.set_xlabel('Churn Risk (\"Exited\")', size=12)\n",
    "\n",
    "sns.violinplot(x=churn,\n",
    "               y=df['Balance'],\n",
    "               order=['Stays', 'Exits'], \n",
    "               palette=my_pal,\n",
    "               ax=ax2)\n",
    "\n",
    "ax2.set_title('Churn Risk vs. Balance', fontsize=14, pad=10)\n",
    "ax2.set_ylabel('Balance',size=12)\n",
    "ax2.set_xlabel('Churn Risk (\"Exited\")', size=12)\n",
    "\n",
    "sns.violinplot(x=churn,\n",
    "               y=df['NumOfProducts'],\n",
    "               order=['Stays', 'Exits'], \n",
    "               palette=my_pal,\n",
    "               ax=ax3)\n",
    "\n",
    "ax3.set_title('Churn Risk vs. Number of Products', fontsize=14, pad=10)\n",
    "ax3.set_ylabel('NumOfProducts',size=12)\n",
    "ax3.set_xlabel('Churn Risk (\"Exited\")', size=12)\n",
    "\n",
    "sns.violinplot(x=churn,\n",
    "               y=df['IsActiveMember'],\n",
    "               order=['Stays', 'Exits'], \n",
    "               palette=my_pal,\n",
    "               ax=ax4)\n",
    "\n",
    "ax4.set_title('Churn Risk vs. Active Membership', fontsize=14, pad=10)\n",
    "ax4.set_ylabel('IsActiveMember',size=12)\n",
    "ax4.set_xlabel('Churn Risk (\"Exited\")', size=12)\n",
    "plt.show()\n",
    "\n"
   ]
  },
  {
   "cell_type": "code",
   "execution_count": null,
   "metadata": {},
   "outputs": [],
   "source": [
    "# Define our target variable\n",
    "y = df.Exited"
   ]
  },
  {
   "cell_type": "code",
   "execution_count": null,
   "metadata": {},
   "outputs": [],
   "source": [
    "y.shape"
   ]
  },
  {
   "cell_type": "code",
   "execution_count": null,
   "metadata": {},
   "outputs": [],
   "source": [
    "# Function to display count and percentage per class of target feature\n",
    "def class_count(a):\n",
    "    counter=Counter(a)\n",
    "    kv=[list(counter.keys()),list(counter.values())]\n",
    "    dff = pd.DataFrame(np.array(kv).T, columns=['Exited','Count'])\n",
    "    dff['Count'] = dff['Count'].astype('int64')\n",
    "    dff['%'] = round(dff['Count'] / a.shape[0] * 100, 2)\n",
    "    return dff.sort_values('Count',ascending=False)"
   ]
  },
  {
   "cell_type": "code",
   "execution_count": null,
   "metadata": {},
   "outputs": [],
   "source": [
    "# Let's use the function\n",
    "dfcc = class_count(y)\n",
    "dfcc"
   ]
  },
  {
   "cell_type": "code",
   "execution_count": null,
   "metadata": {
    "scrolled": true
   },
   "outputs": [],
   "source": [
    "# Plot distribution of target variable, Exited column\n",
    "\n",
    "labels=['Stays', 'Exits']\n",
    "dfcc.plot.bar(x='Exited', y='Count', color=['g', 'r'], legend=False)\n",
    "plt.xticks(dfcc['Exited'], labels, rotation=0)\n",
    "plt.ylabel('Count')\n",
    "plt.show()"
   ]
  },
  {
   "cell_type": "markdown",
   "metadata": {},
   "source": [
    "### Finalizing the Dataframe"
   ]
  },
  {
   "cell_type": "code",
   "execution_count": null,
   "metadata": {},
   "outputs": [],
   "source": [
    "df.head()"
   ]
  },
  {
   "cell_type": "code",
   "execution_count": null,
   "metadata": {},
   "outputs": [],
   "source": [
    "df.info()"
   ]
  },
  {
   "cell_type": "markdown",
   "metadata": {},
   "source": [
    "### save the dataframe"
   ]
  },
  {
   "cell_type": "code",
   "execution_count": null,
   "metadata": {},
   "outputs": [],
   "source": [
    "df.to_csv('updated_dataset.csv', index=None)"
   ]
  },
  {
   "cell_type": "code",
   "execution_count": null,
   "metadata": {},
   "outputs": [],
   "source": [
    "import pandas as pd\n",
    "import numpy as np\n",
    "from sklearn.neighbors import KNeighborsClassifier\n",
    "#Let's start with importing necessary libraries\n",
    "from sklearn.preprocessing import MinMaxScaler\n",
    "from sklearn.model_selection import train_test_split, GridSearchCV\n",
    "from sklearn.model_selection import KFold\n",
    "from statsmodels.stats.outliers_influence import variance_inflation_factor \n",
    "from sklearn.metrics import accuracy_score, confusion_matrix, roc_curve, roc_auc_score\n",
    "import matplotlib.pyplot as plt\n",
    "import seaborn as sns\n",
    "from sklearn.model_selection import KFold\n",
    "sns.set()"
   ]
  },
  {
   "cell_type": "code",
   "execution_count": null,
   "metadata": {},
   "outputs": [],
   "source": [
    "cat_subset = df.select_dtypes('object')\n",
    "cat_subset.head()"
   ]
  },
  {
   "cell_type": "code",
   "execution_count": null,
   "metadata": {},
   "outputs": [],
   "source": [
    "categorical_subset = pd.get_dummies(cat_subset)\n",
    "categorical_subset.head()"
   ]
  },
  {
   "cell_type": "code",
   "execution_count": null,
   "metadata": {},
   "outputs": [],
   "source": [
    "numeric_subset = df.select_dtypes('number')\n",
    "numeric_subset.head()"
   ]
  },
  {
   "cell_type": "code",
   "execution_count": null,
   "metadata": {},
   "outputs": [],
   "source": [
    "data = pd.concat([numeric_subset, categorical_subset], axis=1)\n",
    "data.shape"
   ]
  },
  {
   "cell_type": "code",
   "execution_count": null,
   "metadata": {},
   "outputs": [],
   "source": [
    "data.head()"
   ]
  },
  {
   "cell_type": "code",
   "execution_count": null,
   "metadata": {},
   "outputs": [],
   "source": [
    "X = data.drop(columns = ['Exited'])\n",
    "y = data['Exited']"
   ]
  },
  {
   "cell_type": "code",
   "execution_count": null,
   "metadata": {},
   "outputs": [],
   "source": [
    "X.head()"
   ]
  },
  {
   "cell_type": "code",
   "execution_count": null,
   "metadata": {},
   "outputs": [],
   "source": [
    "y.head()"
   ]
  },
  {
   "cell_type": "code",
   "execution_count": null,
   "metadata": {},
   "outputs": [],
   "source": [
    "scalar = MinMaxScaler(feature_range=(0,1))\n",
    "X_scaled = scalar.fit_transform(X)\n",
    "X_scaled[:5]"
   ]
  },
  {
   "cell_type": "code",
   "execution_count": null,
   "metadata": {},
   "outputs": [],
   "source": [
    "x_train,x_test,y_train,y_test = train_test_split(X_scaled,y, test_size= 0.30)"
   ]
  },
  {
   "cell_type": "code",
   "execution_count": null,
   "metadata": {},
   "outputs": [],
   "source": [
    "print(\"Length of x_train: \", len(x_train))\n",
    "print(\"Length of x_test: \", len(x_test))\n",
    "print(\"Length of y_train: \", len(y_train))\n",
    "print(\"Length of y_test: \", len(y_test))"
   ]
  },
  {
   "cell_type": "code",
   "execution_count": null,
   "metadata": {},
   "outputs": [],
   "source": [
    "# let's fit the data into kNN model and see how well it performs:\n",
    "knn = KNeighborsClassifier()\n",
    "knn.fit(x_train,y_train)"
   ]
  },
  {
   "cell_type": "code",
   "execution_count": null,
   "metadata": {},
   "outputs": [],
   "source": [
    "y_pred = knn.predict(x_test)"
   ]
  },
  {
   "cell_type": "code",
   "execution_count": null,
   "metadata": {},
   "outputs": [],
   "source": [
    "knn.score(x_train,y_train)"
   ]
  },
  {
   "cell_type": "code",
   "execution_count": null,
   "metadata": {},
   "outputs": [],
   "source": [
    "print(\"The accuracy score is : \", accuracy_score(y_test,y_pred))"
   ]
  },
  {
   "cell_type": "markdown",
   "metadata": {},
   "source": [
    "### Hyperparameter Tuning"
   ]
  },
  {
   "cell_type": "code",
   "execution_count": null,
   "metadata": {},
   "outputs": [],
   "source": [
    "param_grid = { 'algorithm' : ['ball_tree', 'kd_tree', 'brute'],\n",
    "               'leaf_size' : [18,20,25,27,30,32,34],\n",
    "               'n_neighbors' : [3,5,7,9,10,11,12,13]\n",
    "              }"
   ]
  },
  {
   "cell_type": "code",
   "execution_count": null,
   "metadata": {},
   "outputs": [],
   "source": [
    "gridsearch = GridSearchCV(knn, param_grid,verbose=3)"
   ]
  },
  {
   "cell_type": "code",
   "execution_count": null,
   "metadata": {},
   "outputs": [],
   "source": [
    "gridsearch.fit(x_train,y_train)"
   ]
  },
  {
   "cell_type": "code",
   "execution_count": null,
   "metadata": {},
   "outputs": [],
   "source": [
    "gridsearch.best_params_"
   ]
  },
  {
   "cell_type": "code",
   "execution_count": null,
   "metadata": {},
   "outputs": [],
   "source": [
    "knn = KNeighborsClassifier(algorithm = 'ball_tree', leaf_size =18, n_neighbors =11)"
   ]
  },
  {
   "cell_type": "code",
   "execution_count": null,
   "metadata": {},
   "outputs": [],
   "source": [
    "knn.fit(x_train,y_train)"
   ]
  },
  {
   "cell_type": "code",
   "execution_count": null,
   "metadata": {},
   "outputs": [],
   "source": [
    "knn.score(x_train,y_train)"
   ]
  },
  {
   "cell_type": "code",
   "execution_count": null,
   "metadata": {},
   "outputs": [],
   "source": [
    "knn.score(x_test,y_test)"
   ]
  },
  {
   "cell_type": "code",
   "execution_count": null,
   "metadata": {},
   "outputs": [],
   "source": [
    "y_pred = knn.predict(x_test)"
   ]
  },
  {
   "cell_type": "code",
   "execution_count": null,
   "metadata": {},
   "outputs": [],
   "source": [
    "from sklearn import metrics\n",
    "\n",
    "print(\"Confusion Metrics\\n\", metrics.confusion_matrix(y_test, y_pred), end=\"\\n\\n\\n\")\n",
    "\n",
    "print(\"Confusion Metrics\\n\", metrics.classification_report(y_test, y_pred), end=\"\\n\\n\\n\")\n",
    "\n",
    "print(\"Confusion Metrics\\n\", metrics.accuracy_score(y_test, y_pred))"
   ]
  },
  {
   "cell_type": "code",
   "execution_count": null,
   "metadata": {},
   "outputs": [],
   "source": [
    "data['Exited'].value_counts()"
   ]
  },
  {
   "cell_type": "markdown",
   "metadata": {},
   "source": [
    "### K-fold cross validation"
   ]
  },
  {
   "cell_type": "code",
   "execution_count": null,
   "metadata": {},
   "outputs": [],
   "source": [
    "kfold = KFold(n_splits=10,random_state= 42, shuffle=True)\n",
    "kfold.get_n_splits(X_scaled)"
   ]
  },
  {
   "cell_type": "code",
   "execution_count": null,
   "metadata": {},
   "outputs": [],
   "source": [
    "from statistics import mean\n",
    "knn = KNeighborsClassifier(algorithm = 'ball_tree', \n",
    "                           leaf_size =18, n_neighbors = 7)\n",
    "cnt =0\n",
    "count=[]\n",
    "train_score =[]\n",
    "test_score = []\n",
    "\n",
    "for train_index,test_index in kfold.split(X_scaled):\n",
    "    X_train, X_test = X_scaled[train_index], X_scaled[test_index] # our scaled data is an array so it can work on x[value]\n",
    "    y_train, y_test = y.iloc[train_index], y.iloc[test_index] # y is a dataframe so we have to use \"iloc\" to retreive data\n",
    "    knn.fit(X_train,y_train)\n",
    "    train_score_ = knn.score(X_train,y_train)\n",
    "    test_score_ =  knn.score(X_test,y_test)\n",
    "    cnt+=1\n",
    "    count.append(cnt)\n",
    "    train_score.append(train_score_)\n",
    "    test_score.append(test_score_)\n",
    "    \n",
    "    print(\"for k = \", cnt)\n",
    "    print(\"train_score is :  \", train_score_, \"and test score is :  \", test_score_)\n",
    "print(\"************************************************\")\n",
    "print(\"************************************************\")\n",
    "print(\"Average train score is :  \", mean(train_score))\n",
    "print(\"Average test score is :  \", mean(test_score))"
   ]
  },
  {
   "cell_type": "code",
   "execution_count": null,
   "metadata": {},
   "outputs": [],
   "source": [
    "# let's plot the test_accuracy with the value of k in k-fold\n",
    "\n",
    "plt.plot(count,test_score)\n",
    "plt.xlabel('Value of K for k-fold')\n",
    "plt.ylabel('test accuracy')\n",
    "plt.xticks(np.arange(0, 12, 1)) \n",
    "plt.yticks(np.arange(0.65, 1, 0.05)) "
   ]
  }
 ],
 "metadata": {
  "kernelspec": {
   "display_name": "Python 3",
   "language": "python",
   "name": "python3"
  },
  "language_info": {
   "codemirror_mode": {
    "name": "ipython",
    "version": 3
   },
   "file_extension": ".py",
   "mimetype": "text/x-python",
   "name": "python",
   "nbconvert_exporter": "python",
   "pygments_lexer": "ipython3",
   "version": "3.8.6"
  }
 },
 "nbformat": 4,
 "nbformat_minor": 5
}
